{
 "cells": [
  {
   "cell_type": "markdown",
   "metadata": {},
   "source": [
    "# Abstract"
   ]
  },
  {
   "cell_type": "markdown",
   "metadata": {},
   "source": [
    "The purpose of this research was to apply prediction models to predict the trend of watching. I worked with data given by Netflix to get promising results for this multiclass challenge by combining differnt types of modeling and categorical feature engineering with a random forest, KNN Algorithms and Logistic Regression. "
   ]
  },
  {
   "cell_type": "markdown",
   "metadata": {},
   "source": [
    "# Design"
   ]
  },
  {
   "cell_type": "markdown",
   "metadata": {},
   "source": [
    "##### - Exploring the Data\n",
    "##### - Check the variables that contains missing values\n",
    "##### - Clean and Correct the missing values\n",
    "##### - Exploratory Data Analysis (EDA) and Visualization\n",
    "##### - Data Cleaning and Preprocessing with Pandas for modelisation\n",
    "##### - Feature Selection\n",
    "##### - Predctive Machine Learning Modeling"
   ]
  },
  {
   "cell_type": "markdown",
   "metadata": {},
   "source": [
    "# Data"
   ]
  },
  {
   "cell_type": "markdown",
   "metadata": {},
   "source": [
    "#### This dataset consists of tv shows and movies available on Netflix. It contains 7787 rows and 12 columns. "
   ]
  },
  {
   "cell_type": "markdown",
   "metadata": {},
   "source": [
    "# Algorithms "
   ]
  },
  {
   "cell_type": "markdown",
   "metadata": {},
   "source": [
    "###### 1- First step is to explore the data looking for missing value, correcting date format,etc. all those steps are necessary to have a clean data and ready for analysis \n",
    "\n",
    "###### 2- Exploratory data analysis on NETFLIX MOVIES AND TV SHOWS, EDA done using python, numpy, pandas, matplotlib, seaborn and plotly. You will find many usefull visualisations and Tables in the project. I have tried to analyse most of the features of the dataset to derive insights.\n",
    "\n",
    "###### 3- Cleaning and Preprocessing of the data before modelisaton, using different libraries and different method. as converting the text to numerical variables.\n",
    "\n",
    "###### 4- Regression analysis of the variables, using Logistic regresion analysis to drive insights about the kind of relation that have between the variables.\n",
    "\n",
    "###### 5- Analysis using different types of Machine Learning Algorithms for classifiying and predicting. using thee types of Algorithms; KNN, Random Forest and Logistic Regression.\n",
    "#### Models\n",
    "\n",
    "###### Logistic regression, k-Nearest Neighbors, and Random Forest classifiers were used before settling on random forest as the model with strongest cross-validation performance. Random forest feature importance ranking was used directly to guide the choice and order of variables to be included as the model underwent refinement.\n",
    "\n",
    "###### The full 7787-record training dataset was split 80/20 train vs. holdout, and all scores shown below were calculated using 5-fold cross validation on the training phase exclusively. Because predictions on the 20% holdout were limited to the very end, this split was only utilized once, and the scores were only viewed once.\n",
    "\n"
   ]
  },
  {
   "cell_type": "markdown",
   "metadata": {},
   "source": [
    "# Tools"
   ]
  },
  {
   "cell_type": "markdown",
   "metadata": {},
   "source": [
    "#### Numpy and Pandas for data manipulation\n",
    "#### Scikit-learn for modeling\n",
    "#### Matplotlib and Seaborn for plotting"
   ]
  },
  {
   "cell_type": "markdown",
   "metadata": {},
   "source": [
    "# Communication"
   ]
  },
  {
   "cell_type": "markdown",
   "metadata": {},
   "source": [
    "##### Netflix consist of 70% Movies And 30% Tv Shows.\n",
    "##### It Has Content Form Year 1942 to 2021.\n",
    "##### United States is at the top for both Movies and Tv Shows .\n",
    "##### India is second in terms of number of movies followed by UK & Canada.\n",
    "##### United Kingdom is second for tv shows followed by Japan & South Korea\n",
    "##### Production of tv shows has greatly increased from year 2000\n",
    "##### The rating TV-MA has most of the content .\n",
    "##### There is more content for adults .\n",
    "##### Samuel West is the most popular actor in movies\n",
    "##### Drama is the most popular genre in movies\n",
    "##### comedy and action & adventure are some of the popular genre in movies.\n",
    "##### International Tv Shows is the most popular genre in tv shows .\n",
    "##### Kids Tv Shows , Anime Series , Crime Tv Shows are some of the popular genre in tv shows .\n",
    "##### Raúl Campos, Jan Suter is the top director in terms of number of content directed ."
   ]
  },
  {
   "cell_type": "markdown",
   "metadata": {},
   "source": [
    "# Some Key Results:"
   ]
  },
  {
   "cell_type": "markdown",
   "metadata": {},
   "source": [
    "### Figure 1: Distribution of the data based on type criteria"
   ]
  },
  {
   "cell_type": "code",
   "execution_count": 4,
   "metadata": {},
   "outputs": [
    {
     "data": {
      "text/html": [
       "<img src=\"image.png\" width=\"600\" height=\"500\"/>"
      ],
      "text/plain": [
       "<IPython.core.display.Image object>"
      ]
     },
     "execution_count": 4,
     "metadata": {},
     "output_type": "execute_result"
    }
   ],
   "source": [
    "from IPython.display import Image\n",
    "Image(url= \"image.png\", width=600, height=500)"
   ]
  },
  {
   "cell_type": "markdown",
   "metadata": {},
   "source": [
    "Figure 1 shows how the data is distributed between Movies and TV Shows, 30.3% of this data are TV Shows and 69.7% are Movies."
   ]
  },
  {
   "cell_type": "markdown",
   "metadata": {},
   "source": [
    "### Figure 2: The evolution of number of Movies and TV Shows based on release data"
   ]
  },
  {
   "cell_type": "code",
   "execution_count": 5,
   "metadata": {},
   "outputs": [
    {
     "data": {
      "text/html": [
       "<img src=\"image2.png\" width=\"600\" height=\"500\"/>"
      ],
      "text/plain": [
       "<IPython.core.display.Image object>"
      ]
     },
     "execution_count": 5,
     "metadata": {},
     "output_type": "execute_result"
    }
   ],
   "source": [
    "Image(url= \"image2.png\", width=600, height=500)"
   ]
  },
  {
   "cell_type": "markdown",
   "metadata": {},
   "source": [
    "The evolution of streaming contain in netflx according the dataset has inceased rapidely from 2015 and contnue to grow exponentially."
   ]
  },
  {
   "cell_type": "markdown",
   "metadata": {},
   "source": [
    "# Predictive Modeling using Machine Learning"
   ]
  },
  {
   "cell_type": "markdown",
   "metadata": {},
   "source": [
    "#### In the project we used three types of models: K Nearest Neighbors & Random Forest and Logistic Regression"
   ]
  },
  {
   "cell_type": "markdown",
   "metadata": {},
   "source": [
    "### Figure 3: The Results of Acurracy Based on Three Different Algorithms (RF & KNN and Logistic Regression)"
   ]
  },
  {
   "cell_type": "code",
   "execution_count": 6,
   "metadata": {},
   "outputs": [
    {
     "data": {
      "text/html": [
       "<img src=\"image33.png\" width=\"600\" height=\"500\"/>"
      ],
      "text/plain": [
       "<IPython.core.display.Image object>"
      ]
     },
     "execution_count": 6,
     "metadata": {},
     "output_type": "execute_result"
    }
   ],
   "source": [
    "Image(url= \"image33.png\", width=600, height=500)"
   ]
  },
  {
   "cell_type": "markdown",
   "metadata": {},
   "source": [
    "According the Figue 3 we see that using Random Forest Algorithm gives a high acurracy results compared to KNN Algorithm and the Logistic Regression."
   ]
  }
 ],
 "metadata": {
  "kernelspec": {
   "display_name": "Python 3",
   "language": "python",
   "name": "python3"
  },
  "language_info": {
   "codemirror_mode": {
    "name": "ipython",
    "version": 3
   },
   "file_extension": ".py",
   "mimetype": "text/x-python",
   "name": "python",
   "nbconvert_exporter": "python",
   "pygments_lexer": "ipython3",
   "version": "3.8.5"
  },
  "toc": {
   "base_numbering": 1,
   "nav_menu": {},
   "number_sections": true,
   "sideBar": true,
   "skip_h1_title": false,
   "title_cell": "Table of Contents",
   "title_sidebar": "Contents",
   "toc_cell": false,
   "toc_position": {},
   "toc_section_display": true,
   "toc_window_display": false
  }
 },
 "nbformat": 4,
 "nbformat_minor": 4
}
